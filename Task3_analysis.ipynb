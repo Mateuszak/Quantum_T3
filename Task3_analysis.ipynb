{
 "cells": [
  {
   "cell_type": "code",
   "execution_count": 1,
   "metadata": {},
   "outputs": [],
   "source": [
    "import pandas as pd\n",
    "\n",
    "df = pd.read_csv(\"internship_train.csv\")"
   ]
  },
  {
   "cell_type": "code",
   "execution_count": 2,
   "metadata": {},
   "outputs": [
    {
     "name": "stdout",
     "output_type": "stream",
     "text": [
      "              mean         std\n",
      "0       249.423944  144.336393\n",
      "1       250.236267  144.022200\n",
      "2       248.637289  144.107577\n",
      "3       249.736600  144.284945\n",
      "4       249.436178  143.941581\n",
      "5       249.656167  144.329168\n",
      "6        -0.011402    7.038171\n",
      "7         0.498548    0.288682\n",
      "8         0.499189    0.500002\n",
      "9       249.842033  144.612718\n",
      "10      249.818967  144.363827\n",
      "11      249.346778  144.476128\n",
      "12      249.899900  144.310495\n",
      "13        7.483940    4.330908\n",
      "14        7.498037    4.318388\n",
      "15        7.496259    4.338732\n",
      "16        7.501635    4.345618\n",
      "17        7.486463    4.318031\n",
      "18        7.523043    4.323500\n",
      "19        7.475585    4.327327\n",
      "20        7.494835    4.325447\n",
      "21        7.503939    4.330159\n",
      "22        7.507724    4.332599\n",
      "23        7.508681    4.328966\n",
      "24        7.472421    4.345228\n",
      "25        7.519205    4.339104\n",
      "26        7.515753    4.333907\n",
      "27        7.509402    4.331007\n",
      "28        7.496781    4.334982\n",
      "29        7.504014    4.318553\n",
      "30        7.494212    4.327286\n",
      "31        7.490808    4.322672\n",
      "32        7.486936    4.329524\n",
      "33        7.514508    4.329973\n",
      "34        7.491614    4.333144\n",
      "35        7.520193    4.335244\n",
      "36        7.507801    4.329515\n",
      "37        7.493713    4.327480\n",
      "38        7.513840    4.333543\n",
      "39        7.507033    4.327670\n",
      "40        7.479579    4.326175\n",
      "41        7.519826    4.315565\n",
      "42        7.502483    4.333881\n",
      "43        7.512965    4.329929\n",
      "44        7.475155    4.330410\n",
      "45        7.523962    4.321537\n",
      "46        7.508397    4.331761\n",
      "47        7.473322    4.335692\n",
      "48        7.490658    4.332122\n",
      "49        7.474578    4.323035\n",
      "50        7.509206    4.326364\n",
      "51        7.487159    4.324876\n",
      "52        7.513316    4.333080\n",
      "target   50.033981   28.897243\n"
     ]
    }
   ],
   "source": [
    "stats = df.describe()\n",
    "print(stats.loc[['mean', 'std']].T)"
   ]
  },
  {
   "cell_type": "code",
   "execution_count": 3,
   "metadata": {},
   "outputs": [],
   "source": [
    "X = df.drop(['target'], axis=1)\n",
    "X = (X-X.mean())/X.std()\n",
    "y = df['target']"
   ]
  },
  {
   "cell_type": "code",
   "execution_count": 6,
   "metadata": {},
   "outputs": [
    {
     "name": "stdout",
     "output_type": "stream",
     "text": [
      "0.2908652509777999\n"
     ]
    }
   ],
   "source": [
    "from sklearn.neural_network import MLPRegressor\n",
    "from sklearn.metrics import mean_squared_error\n",
    "from sklearn.model_selection import train_test_split\n",
    "from math import sqrt\n",
    "\n",
    "X_train, X_test, y_train, y_test = train_test_split(X, y, train_size=0.8, random_state=42)\n",
    "\n",
    "reg = MLPRegressor(max_iter=100, early_stopping=True, hidden_layer_sizes=(128, 64)).fit(X_train, y_train)\n",
    "predictions = reg.predict(X_test)\n",
    "print(sqrt(mean_squared_error(y_test, predictions)))"
   ]
  }
 ],
 "metadata": {
  "kernelspec": {
   "display_name": "Python 3",
   "language": "python",
   "name": "python3"
  },
  "language_info": {
   "codemirror_mode": {
    "name": "ipython",
    "version": 3
   },
   "file_extension": ".py",
   "mimetype": "text/x-python",
   "name": "python",
   "nbconvert_exporter": "python",
   "pygments_lexer": "ipython3",
   "version": "3.7.6"
  }
 },
 "nbformat": 4,
 "nbformat_minor": 2
}
